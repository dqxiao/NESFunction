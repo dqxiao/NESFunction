{
 "cells": [
  {
   "cell_type": "code",
   "execution_count": 1,
   "metadata": {
    "collapsed": true
   },
   "outputs": [],
   "source": [
    "import numpy as np\n",
    "import math\n",
    "import multiprocessing as mp\n",
    "import torch\n",
    "from torchvision import datasets, transforms\n",
    "from torch.autograd import Variable\n",
    "\n",
    "from collections import namedtuple\n",
    "from NetworkModel import *\n",
    "from es import SimpleGA, CMAES, PEPG, OpenES, PEPGVariant \n",
    "from es import compute_ranks, compute_centered_ranks,compute_weight_decay\n",
    "import copy "
   ]
  },
  {
   "cell_type": "code",
   "execution_count": null,
   "metadata": {},
   "outputs": [],
   "source": []
  },
  {
   "cell_type": "code",
   "execution_count": 2,
   "metadata": {
    "collapsed": true
   },
   "outputs": [],
   "source": [
    "def config():\n",
    "\tglobal NPARAMS\n",
    "\tglobal NPOPULATION\n",
    "\tglobal args \n",
    "\tglobal model_shapes\n",
    "\tglobal weight_decay_coef \n",
    "\n",
    "\n",
    "\ttorch.manual_seed(0)\n",
    "\tnp.random.seed(0)\n",
    "\tNPOPULATION=101  \n",
    "\tweight_decay_coef = 0.1\n",
    "\n",
    "\tArgs = namedtuple('Args', ['batch_size', 'test_batch_size', 'epochs', 'lr', 'cuda', 'seed', 'log_interval'])\n",
    "\targs = Args(batch_size=100, test_batch_size=1000, epochs=3, lr=0.001, cuda=False, seed=0, log_interval=10)\n",
    "    "
   ]
  },
  {
   "cell_type": "code",
   "execution_count": 3,
   "metadata": {},
   "outputs": [],
   "source": [
    "def dataFeed():\n",
    "\tglobal train_loader\n",
    "\tglobal valid_loader\n",
    "\tglobal test_loader\n",
    "\n",
    "\tkwargs = {'num_workers': 1, 'pin_memory': False} if args.cuda else {}\n",
    "\n",
    "\ttrain_loader = torch.utils.data.DataLoader(datasets.MNIST('MNIST_data', train=True, download=True, transform=transforms.Compose([transforms.ToTensor(), transforms.Normalize((0.1307,), (0.3081,))])),\n",
    "  \t\t\tbatch_size=args.batch_size, shuffle=True, **kwargs)\n",
    "\n",
    "\tvalid_loader = train_loader\n",
    "\n",
    "\ttest_loader = torch.utils.data.DataLoader(\n",
    "  \t\tdatasets.MNIST('MNIST_data', train=False, transform=transforms.Compose([transforms.ToTensor(),transforms.Normalize((0.1307,), (0.3081,))])),\n",
    "  \t\t\tbatch_size=args.batch_size, shuffle=True, **kwargs)"
   ]
  },
  {
   "cell_type": "code",
   "execution_count": 18,
   "metadata": {
    "collapsed": true
   },
   "outputs": [],
   "source": [
    "def debugSolver(es,printLog=True):\n",
    "\tbest_valid_acc = 0\n",
    "\ttraining_log=[]\n",
    "\tfor epoch in range(1, 10*args.epochs + 1):\n",
    "\t  # train loop\n",
    "\t  model.eval()\n",
    "\t  for batch_idx, (data, target) in enumerate(train_loader):\n",
    "\t    data, target = Variable(data), Variable(target)\n",
    "\t    solutions = es.ask() \n",
    "\t    reward = np.zeros(es.popsize)\n",
    "\t    for i in range(es.popsize):\n",
    "\t      update_model(solutions[i], model, model_shapes)\n",
    "\t      output = model(data)\n",
    "\t      loss = F.nll_loss(output, target) # loss function used = =  \n",
    "\t      reward[i] = -loss.data[0]\n",
    "\t    best_raw_reward = reward.max()\n",
    "\t    reward = compute_centered_ranks(reward)\n",
    "\t    l2_decay = compute_weight_decay(weight_decay_coef, solutions)\n",
    "\t    reward += l2_decay\n",
    "\t    es.tell(reward)\n",
    "\t    result = es.result()\n",
    "\t    if (batch_idx % 5 == 0) and printLog:\n",
    "\t    \tprint(epoch, batch_idx, best_raw_reward,result[1]) \n",
    "\t  curr_solution = es.current_param()\n",
    "\t  update_model(curr_solution, model, model_shapes)\n",
    "\t  valid_acc = evaluate(model, valid_loader, print_mode=False)\n",
    "\t  training_log.append(valid_acc) \n",
    "\t  print('valid_acc', valid_acc * 100.)\n",
    "\t  if valid_acc >= best_valid_acc:\n",
    "\t    best_valid_acc = valid_acc\n",
    "\t    best_model = copy.deepcopy(model)\n",
    "\t    print('best valid_acc', best_valid_acc * 100.)\n",
    "\treturn training_log,best_model"
   ]
  },
  {
   "cell_type": "code",
   "execution_count": 19,
   "metadata": {
    "collapsed": true
   },
   "outputs": [],
   "source": [
    "config()\n",
    "model=Net()\n",
    "NPARAMS,model_shapes=cal_nparams(model)\n",
    "dataFeed()"
   ]
  },
  {
   "cell_type": "code",
   "execution_count": 24,
   "metadata": {},
   "outputs": [],
   "source": [
    "pepg = PEPG(NPARAMS,                         # number of model parameters\n",
    "\t    sigma_init=0.01,                  # initial standard deviation\n",
    "\t    learning_rate=0.1,               # learning rate for standard deviation\n",
    "\t    learning_rate_decay=1.0,       # don't anneal the learning rate\n",
    "\t    popsize=NPOPULATION,             # population size\n",
    "\t    average_baseline=False,          # set baseline to average of batch\n",
    "\t    weight_decay=0.00,            # weight decay coefficient\n",
    "\t    rank_fitness=False,           # use rank rather than fitness numbers\n",
    "\t    forget_best=False)            # don't keep the historical best solution)"
   ]
  },
  {
   "cell_type": "code",
   "execution_count": 25,
   "metadata": {},
   "outputs": [
    {
     "name": "stdout",
     "output_type": "stream",
     "text": [
      "1 0 -94.8331451416 0.494122\n",
      "1 5 -92.5700683594 0.49325\n",
      "1 10 -79.5240631104 0.492388\n",
      "1 15 -124.508323669 0.491537\n",
      "1 20 -143.158843994 0.490697\n",
      "1 25 -127.347488403 0.489869\n",
      "1 30 -139.953659058 0.489049\n",
      "1 35 -106.049987793 0.488235\n",
      "1 40 -129.885940552 0.48744\n",
      "1 45 -142.785812378 0.486652\n",
      "1 50 -129.238967896 0.485882\n"
     ]
    },
    {
     "ename": "KeyboardInterrupt",
     "evalue": "",
     "output_type": "error",
     "traceback": [
      "\u001b[1;31m---------------------------------------------------------------------------\u001b[0m",
      "\u001b[1;31mKeyboardInterrupt\u001b[0m                         Traceback (most recent call last)",
      "\u001b[1;32m<ipython-input-25-3d6b4a0af613>\u001b[0m in \u001b[0;36m<module>\u001b[1;34m()\u001b[0m\n\u001b[1;32m----> 1\u001b[1;33m \u001b[0mhistory\u001b[0m\u001b[1;33m,\u001b[0m\u001b[0mbest_model\u001b[0m\u001b[1;33m=\u001b[0m\u001b[0mdebugSolver\u001b[0m\u001b[1;33m(\u001b[0m\u001b[0mes\u001b[0m\u001b[1;33m,\u001b[0m\u001b[0mprintLog\u001b[0m\u001b[1;33m=\u001b[0m\u001b[1;32mTrue\u001b[0m\u001b[1;33m)\u001b[0m\u001b[1;33m\u001b[0m\u001b[0m\n\u001b[0m",
      "\u001b[1;32m<ipython-input-18-bf2ddff50cd0>\u001b[0m in \u001b[0;36mdebugSolver\u001b[1;34m(es, printLog)\u001b[0m\n\u001b[0;32m     10\u001b[0m             \u001b[0mreward\u001b[0m \u001b[1;33m=\u001b[0m \u001b[0mnp\u001b[0m\u001b[1;33m.\u001b[0m\u001b[0mzeros\u001b[0m\u001b[1;33m(\u001b[0m\u001b[0mes\u001b[0m\u001b[1;33m.\u001b[0m\u001b[0mpopsize\u001b[0m\u001b[1;33m)\u001b[0m\u001b[1;33m\u001b[0m\u001b[0m\n\u001b[0;32m     11\u001b[0m             \u001b[1;32mfor\u001b[0m \u001b[0mi\u001b[0m \u001b[1;32min\u001b[0m \u001b[0mrange\u001b[0m\u001b[1;33m(\u001b[0m\u001b[0mes\u001b[0m\u001b[1;33m.\u001b[0m\u001b[0mpopsize\u001b[0m\u001b[1;33m)\u001b[0m\u001b[1;33m:\u001b[0m\u001b[1;33m\u001b[0m\u001b[0m\n\u001b[1;32m---> 12\u001b[1;33m               \u001b[0mupdate_model\u001b[0m\u001b[1;33m(\u001b[0m\u001b[0msolutions\u001b[0m\u001b[1;33m[\u001b[0m\u001b[0mi\u001b[0m\u001b[1;33m]\u001b[0m\u001b[1;33m,\u001b[0m \u001b[0mmodel\u001b[0m\u001b[1;33m,\u001b[0m \u001b[0mmodel_shapes\u001b[0m\u001b[1;33m)\u001b[0m\u001b[1;33m\u001b[0m\u001b[0m\n\u001b[0m\u001b[0;32m     13\u001b[0m               \u001b[0moutput\u001b[0m \u001b[1;33m=\u001b[0m \u001b[0mmodel\u001b[0m\u001b[1;33m(\u001b[0m\u001b[0mdata\u001b[0m\u001b[1;33m)\u001b[0m\u001b[1;33m\u001b[0m\u001b[0m\n\u001b[0;32m     14\u001b[0m               \u001b[0mloss\u001b[0m \u001b[1;33m=\u001b[0m \u001b[0mF\u001b[0m\u001b[1;33m.\u001b[0m\u001b[0mnll_loss\u001b[0m\u001b[1;33m(\u001b[0m\u001b[0moutput\u001b[0m\u001b[1;33m,\u001b[0m \u001b[0mtarget\u001b[0m\u001b[1;33m)\u001b[0m \u001b[1;31m# loss function used = =\u001b[0m\u001b[1;33m\u001b[0m\u001b[0m\n",
      "\u001b[1;32m~\\Documents\\estool\\NetworkModel.py\u001b[0m in \u001b[0;36mupdate_model\u001b[1;34m(flat_param, model, model_shapes)\u001b[0m\n\u001b[0;32m     54\u001b[0m     \u001b[0mi\u001b[0m \u001b[1;33m+=\u001b[0m \u001b[1;36m1\u001b[0m\u001b[1;33m\u001b[0m\u001b[0m\n\u001b[0;32m     55\u001b[0m     \u001b[0midx\u001b[0m \u001b[1;33m+=\u001b[0m \u001b[0mdelta\u001b[0m\u001b[1;33m\u001b[0m\u001b[0m\n\u001b[1;32m---> 56\u001b[1;33m     \u001b[0mblock_data\u001b[0m \u001b[1;33m=\u001b[0m \u001b[0mtorch\u001b[0m\u001b[1;33m.\u001b[0m\u001b[0mfrom_numpy\u001b[0m\u001b[1;33m(\u001b[0m\u001b[0mblock\u001b[0m\u001b[1;33m)\u001b[0m\u001b[1;33m.\u001b[0m\u001b[0mfloat\u001b[0m\u001b[1;33m(\u001b[0m\u001b[1;33m)\u001b[0m\u001b[1;33m\u001b[0m\u001b[0m\n\u001b[0m\u001b[0;32m     57\u001b[0m     \u001b[0mparam\u001b[0m\u001b[1;33m.\u001b[0m\u001b[0mdata\u001b[0m \u001b[1;33m=\u001b[0m \u001b[0mblock_data\u001b[0m\u001b[1;33m\u001b[0m\u001b[0m\n\u001b[0;32m     58\u001b[0m \u001b[1;33m\u001b[0m\u001b[0m\n",
      "\u001b[1;32m~\\AppData\\Local\\Continuum\\anaconda3\\lib\\site-packages\\torch\\tensor.py\u001b[0m in \u001b[0;36mfloat\u001b[1;34m(self)\u001b[0m\n\u001b[0;32m     37\u001b[0m     \u001b[1;32mdef\u001b[0m \u001b[0mfloat\u001b[0m\u001b[1;33m(\u001b[0m\u001b[0mself\u001b[0m\u001b[1;33m)\u001b[0m\u001b[1;33m:\u001b[0m\u001b[1;33m\u001b[0m\u001b[0m\n\u001b[0;32m     38\u001b[0m         \u001b[1;34m\"\"\"Casts this tensor to float type\"\"\"\u001b[0m\u001b[1;33m\u001b[0m\u001b[0m\n\u001b[1;32m---> 39\u001b[1;33m         \u001b[1;32mreturn\u001b[0m \u001b[0mself\u001b[0m\u001b[1;33m.\u001b[0m\u001b[0mtype\u001b[0m\u001b[1;33m(\u001b[0m\u001b[0mtype\u001b[0m\u001b[1;33m(\u001b[0m\u001b[0mself\u001b[0m\u001b[1;33m)\u001b[0m\u001b[1;33m.\u001b[0m\u001b[0m__module__\u001b[0m \u001b[1;33m+\u001b[0m \u001b[1;34m'.FloatTensor'\u001b[0m\u001b[1;33m)\u001b[0m\u001b[1;33m\u001b[0m\u001b[0m\n\u001b[0m\u001b[0;32m     40\u001b[0m \u001b[1;33m\u001b[0m\u001b[0m\n\u001b[0;32m     41\u001b[0m     \u001b[1;32mdef\u001b[0m \u001b[0mhalf\u001b[0m\u001b[1;33m(\u001b[0m\u001b[0mself\u001b[0m\u001b[1;33m)\u001b[0m\u001b[1;33m:\u001b[0m\u001b[1;33m\u001b[0m\u001b[0m\n",
      "\u001b[1;32m~\\AppData\\Local\\Continuum\\anaconda3\\lib\\site-packages\\torch\\_utils.py\u001b[0m in \u001b[0;36m_type\u001b[1;34m(self, new_type, async)\u001b[0m\n\u001b[0;32m     32\u001b[0m     \u001b[1;32mif\u001b[0m \u001b[0mnew_type\u001b[0m\u001b[1;33m.\u001b[0m\u001b[0mis_sparse\u001b[0m\u001b[1;33m:\u001b[0m\u001b[1;33m\u001b[0m\u001b[0m\n\u001b[0;32m     33\u001b[0m         \u001b[1;32mraise\u001b[0m \u001b[0mRuntimeError\u001b[0m\u001b[1;33m(\u001b[0m\u001b[1;34m\"Cannot cast dense tensor to sparse tensor\"\u001b[0m\u001b[1;33m)\u001b[0m\u001b[1;33m\u001b[0m\u001b[0m\n\u001b[1;32m---> 34\u001b[1;33m     \u001b[1;32mreturn\u001b[0m \u001b[0mnew_type\u001b[0m\u001b[1;33m(\u001b[0m\u001b[0mself\u001b[0m\u001b[1;33m.\u001b[0m\u001b[0msize\u001b[0m\u001b[1;33m(\u001b[0m\u001b[1;33m)\u001b[0m\u001b[1;33m)\u001b[0m\u001b[1;33m.\u001b[0m\u001b[0mcopy_\u001b[0m\u001b[1;33m(\u001b[0m\u001b[0mself\u001b[0m\u001b[1;33m,\u001b[0m \u001b[0masync\u001b[0m\u001b[1;33m)\u001b[0m\u001b[1;33m\u001b[0m\u001b[0m\n\u001b[0m\u001b[0;32m     35\u001b[0m \u001b[1;33m\u001b[0m\u001b[0m\n\u001b[0;32m     36\u001b[0m \u001b[1;33m\u001b[0m\u001b[0m\n",
      "\u001b[1;31mKeyboardInterrupt\u001b[0m: "
     ]
    }
   ],
   "source": [
    "history,best_model=debugSolver(es,printLog=True)"
   ]
  },
  {
   "cell_type": "code",
   "execution_count": null,
   "metadata": {
    "collapsed": true
   },
   "outputs": [],
   "source": []
  }
 ],
 "metadata": {
  "kernelspec": {
   "display_name": "Python 3",
   "language": "python",
   "name": "python3"
  },
  "language_info": {
   "codemirror_mode": {
    "name": "ipython",
    "version": 3
   },
   "file_extension": ".py",
   "mimetype": "text/x-python",
   "name": "python",
   "nbconvert_exporter": "python",
   "pygments_lexer": "ipython3",
   "version": "3.6.3"
  }
 },
 "nbformat": 4,
 "nbformat_minor": 2
}
